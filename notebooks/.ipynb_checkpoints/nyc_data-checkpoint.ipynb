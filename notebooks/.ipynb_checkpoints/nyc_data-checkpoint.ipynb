{
 "cells": [
  {
   "cell_type": "code",
   "execution_count": null,
   "metadata": {},
   "outputs": [],
   "source": [
    "import pandas as pd\n",
    "import numpy as np\n",
    "from datetime import datetime, date\n",
    "\n",
    "\n",
    "file = '311_Service_Requests_from_2010_to_Present.csv' \n",
    "population = '2010+Census+Population+By+Zipcode+(ZCTA).csv'\n",
    "row_count = 1000\n",
    "datafile = pd.read_csv(file, usecols = [\"Created Date\", \"Complaint Type\", \"Incident Zip\", \"Borough\"], dtype = 'str', chunksize=row_count)\n",
    "dataAll = pd.DataFrame()\n",
    "\n",
    "for chunk in datafile: \n",
    "    data =  chunk.loc[(chunk['Created Date'].str.contains('2017'))]\n",
    "\n",
    "    \n",
    "    if not data.empty:\n",
    "        dataAll = pd.concat([dataAll, data], ignore_index=True)"
   ]
  },
  {
   "cell_type": "markdown",
   "metadata": {},
   "source": [
    "I initially tried to load the entire CSV file but could not because the data was too big, so I used the chunking method.\n",
    "This gives us all the complaint data, but it includes unspecified rows."
   ]
  },
  {
   "cell_type": "code",
   "execution_count": null,
   "metadata": {},
   "outputs": [],
   "source": [
    "dataAll = dataAll[~dataAll.Borough.str.contains(\"Unspecified\")]"
   ]
  },
  {
   "cell_type": "markdown",
   "metadata": {},
   "source": [
    "We need to know top 10 complaints, and list them to use later."
   ]
  },
  {
   "cell_type": "code",
   "execution_count": null,
   "metadata": {},
   "outputs": [],
   "source": [
    "top_10_complaints = dataAll['Complaint Type'].value_counts().nlargest(10)\n",
    "top_10_list = top_10_complaints.index.values.tolist()\n",
    "datatop10 = dataAll.loc[dataAll['Complaint Type'].isin(top_10_list)]"
   ]
  },
  {
   "cell_type": "markdown",
   "metadata": {},
   "source": [
    "We can group by borough and count the number of times each complaint types appears."
   ]
  },
  {
   "cell_type": "code",
   "execution_count": null,
   "metadata": {},
   "outputs": [],
   "source": [
    "dataComp = datatop10.groupby(['Borough', 'Complaint Type']).size()"
   ]
  },
  {
   "cell_type": "markdown",
   "metadata": {},
   "source": [
    "This comes back as a groupby, so we can clean this a little by resetting the index and column name for use later as a dataframe"
   ]
  },
  {
   "cell_type": "code",
   "execution_count": null,
   "metadata": {},
   "outputs": [],
   "source": [
    "dataComp2 = dataComp.to_frame(name = 'Count').reset_index()\n",
    "dataComp2"
   ]
  },
  {
   "cell_type": "markdown",
   "metadata": {},
   "source": [
    "We can make a stacked bar plot of the 10 complaint types to help us visualize how the complaints break down in each Borough"
   ]
  },
  {
   "cell_type": "code",
   "execution_count": null,
   "metadata": {
    "scrolled": false
   },
   "outputs": [],
   "source": [
    "%matplotlib inline\n",
    "dataComp3 = dataComp2.groupby(['Borough', 'Complaint Type']).sum().unstack('Complaint Type')\n",
    "dataComp3.columns = dataComp3.columns.droplevel()\n",
    "dataComp3.plot(kind='bar', stacked = True, figsize=(14,6))"
   ]
  },
  {
   "cell_type": "markdown",
   "metadata": {},
   "source": [
    "With borough done, we can now look at the complaint counts by zip code\n",
    "\n",
    "This shows all the zip codes and their complaints, but we need only the ten most populated zip codes. So we need to use the census data from 2010, by zip code. We can merge the two sets on similar zip codes that appear on our NYC zip codes. This gives us all the complaints that belong in the top 10 complaints with their corresponding zip code population.\n",
    "\n",
    "We will use this for both the second and third questions."
   ]
  },
  {
   "cell_type": "code",
   "execution_count": null,
   "metadata": {},
   "outputs": [],
   "source": [
    "dataPop = pd.read_csv(population, dtype = 'str')\n",
    "dataPop = dataPop.rename(columns={'Zip Code ZCTA': 'Incident Zip'})\n",
    "dc = pd.merge(dataAll, dataPop, on = 'Incident Zip')\n",
    "dc"
   ]
  },
  {
   "cell_type": "markdown",
   "metadata": {},
   "source": [
    "Since we want zip code populations, we do not want multiple instances of zip code populations, so we can drop any duplicates and have their corresponding populations."
   ]
  },
  {
   "cell_type": "code",
   "execution_count": null,
   "metadata": {},
   "outputs": [],
   "source": [
    "dc1 = dc.drop_duplicates(subset = 'Incident Zip').sort_values(by=[\"2010 Census Population\"], ascending = False)"
   ]
  },
  {
   "cell_type": "markdown",
   "metadata": {},
   "source": [
    "We now only need the 10 most populated zip codes, so we can cut down our dataframe to show just that."
   ]
  },
  {
   "cell_type": "code",
   "execution_count": null,
   "metadata": {},
   "outputs": [],
   "source": [
    "dcc = dc1.astype({\"2010 Census Population\": int}).sort_values(by=[\"2010 Census Population\"], ascending = False).nlargest(10, '2010 Census Population')\n",
    "dcc = dcc.drop(columns=['Created Date', 'Complaint Type', 'Borough']).reset_index(drop=True)\n",
    "dcc"
   ]
  },
  {
   "cell_type": "markdown",
   "metadata": {},
   "source": [
    "We can now break down the top ten complaints by zip codes, much like how we broke complaints by boroughs before. "
   ]
  },
  {
   "cell_type": "code",
   "execution_count": null,
   "metadata": {},
   "outputs": [],
   "source": [
    "dataCompZip = datatop10.groupby(['Incident Zip', 'Complaint Type']).size()\n",
    "dataCompZipf = dataCompZip.to_frame(name = 'Count').reset_index() \n",
    "dataCompZipf "
   ]
  },
  {
   "cell_type": "markdown",
   "metadata": {},
   "source": [
    "Here are the top 10 zip codes broken down into the top 10 complaints."
   ]
  },
  {
   "cell_type": "code",
   "execution_count": null,
   "metadata": {},
   "outputs": [],
   "source": [
    "top_10_zips = dcc['Incident Zip'].tolist()\n",
    "ziptop10 = dataCompZipf.loc[dataCompZipf['Incident Zip'].isin(top_10_zips)]\n",
    "ziptopcombined = ziptop10.groupby(by=['Incident Zip'])['Count'].sum()\n",
    "ziptop10"
   ]
  },
  {
   "cell_type": "markdown",
   "metadata": {},
   "source": [
    "And here is the total count of complaints in the top zip codes."
   ]
  },
  {
   "cell_type": "code",
   "execution_count": null,
   "metadata": {},
   "outputs": [],
   "source": [
    "ziptopcombined.to_frame(name = 'Combined Count').reset_index().sort_values(by=[\"Combined Count\"], ascending = False)"
   ]
  },
  {
   "cell_type": "markdown",
   "metadata": {},
   "source": [
    "In order to obtain the total population of a borough, we can take all instances of the unique zip codes list (dc1) that belong to one of the boroughs and add them together.\n",
    "\n",
    "We get the following list of boroughs and their corresponding population size."
   ]
  },
  {
   "cell_type": "code",
   "execution_count": null,
   "metadata": {},
   "outputs": [],
   "source": [
    "dc2 = dc1.drop(columns=['Created Date', 'Complaint Type', 'Incident Zip'])\n",
    "dc2 = dc2.astype({\"2010 Census Population\": int})\n",
    "dc3 = dc2.groupby(by=['Borough'])['2010 Census Population'].sum().to_frame(name = 'Borough Population').reset_index()\n",
    "dc3"
   ]
  },
  {
   "cell_type": "markdown",
   "metadata": {},
   "source": [
    "Before, we only needed the top ten complaints in the boroughs, but now we need to consider all the complaints. So we take our original data set (dataAll) and then total all the complaints by borough. "
   ]
  },
  {
   "cell_type": "code",
   "execution_count": null,
   "metadata": {
    "scrolled": true
   },
   "outputs": [],
   "source": [
    "count_data = dataAll.groupby(['Borough', 'Complaint Type']).size()\n",
    "count_data = count_data.to_frame(name = 'Complaints').reset_index().drop(columns=['Complaint Type'])\n",
    "CD1 = count_data.groupby(by=['Borough'])['Complaints'].sum()\n",
    "CD2 = CD1.to_frame(name = 'Total Complaints').reset_index()"
   ]
  },
  {
   "cell_type": "markdown",
   "metadata": {},
   "source": [
    "Finally, we just need to divide the total number of complaints of the borough by that boroughs population in order to index them and compare."
   ]
  },
  {
   "cell_type": "code",
   "execution_count": null,
   "metadata": {},
   "outputs": [],
   "source": [
    "CD3 = pd.merge(dc3, CD2, on = 'Borough')\n",
    "CD3['Complaint Index'] = CD3['Total Complaints']/CD3['Borough Population']\n",
    "CD3.sort_values(by=[\"Complaint Index\"], ascending = False)"
   ]
  },
  {
   "cell_type": "markdown",
   "metadata": {},
   "source": [
    "Here we can see that those in the Bronx happen to be the \"biggest complainers\", at least for the year of 2017. This could be "
   ]
  }
 ],
 "metadata": {
  "kernelspec": {
   "display_name": "Python 3",
   "language": "python",
   "name": "python3"
  },
  "language_info": {
   "codemirror_mode": {
    "name": "ipython",
    "version": 3
   },
   "file_extension": ".py",
   "mimetype": "text/x-python",
   "name": "python",
   "nbconvert_exporter": "python",
   "pygments_lexer": "ipython3",
   "version": "3.6.6"
  }
 },
 "nbformat": 4,
 "nbformat_minor": 2
}
